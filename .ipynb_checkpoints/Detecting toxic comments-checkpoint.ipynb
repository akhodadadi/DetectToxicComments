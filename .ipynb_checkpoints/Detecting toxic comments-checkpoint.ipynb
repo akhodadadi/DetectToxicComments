{
 "cells": [
  {
   "cell_type": "markdown",
   "metadata": {},
   "source": [
    "# Introduction "
   ]
  },
  {
   "cell_type": "markdown",
   "metadata": {},
   "source": [
    "In this project we design and cmpare several models for detecting different kinds of toxic comments in a dataset of comments from Wikipedia’s talk page edits. Each sample in the dataset includes a comment and 6 binary values which are human labels on the type(s) of toxicity of the comment. The toxicity types are: toxic, severe_toxic, obscene, threat, insult and identity_hate. A comment may have several labels.\n",
    "\n",
    "We will develope three types of model: decision tree models (random forest, and boosted trees implemented in XGboost and lightGBM) trained on *term-frequency-inverse-document-frequency (tf-idf)* of the texts, a neural network with an embedding layer followed by a convolutional and dense layer, and a neural network with an embedding layer followed by two GRU layers and a dense layer. In addition, we will examine if using the *Glove* representation [[1]](#glove) of the words as features will improve the perfomance of these models."
   ]
  },
  {
   "cell_type": "markdown",
   "metadata": {},
   "source": [
    "# Dataset "
   ]
  },
  {
   "cell_type": "markdown",
   "metadata": {},
   "source": [
    "The dataset can be found [here](https://www.kaggle.com/c/jigsaw-toxic-comment-classification-challenge/data). The data is divided into a train and a test set . There are 159571 samples in the train set and 153164 samples in the test set. The labels for the test set are not provided. But we can evaluate the performance by submitting the predictions to the [Kaggle](https://www.kaggle.com/c/jigsaw-toxic-comment-classification-challenge) website of the challange corresponding this dataset which will evaluate the performance on the test set.\n",
    "\n",
    "We have implemented all the code as a python package named `toxic`. This includes a class named `Toxic` which has several methods for loading and cleaning data and feature extraction. Throughout this report we will explain each method used."
   ]
  },
  {
   "cell_type": "code",
   "execution_count": 1,
   "metadata": {},
   "outputs": [
    {
     "name": "stderr",
     "output_type": "stream",
     "text": [
      "Using TensorFlow backend.\n"
     ]
    }
   ],
   "source": [
    "import warnings\n",
    "warnings.filterwarnings(\"ignore\")\n",
    "from toxic.base import Toxic, toxic_config\n",
    "import matplotlib.pyplot as plt\n",
    "import seaborn as sns\n",
    "import numpy as np\n",
    "import pandas as pd\n",
    "%matplotlib inline"
   ]
  },
  {
   "cell_type": "code",
   "execution_count": 2,
   "metadata": {},
   "outputs": [
    {
     "name": "stdout",
     "output_type": "stream",
     "text": [
      "Fri Jun  1 09:20:11 2018...loading data into pandas df...\n"
     ]
    }
   ],
   "source": [
    "tox = Toxic()\n",
    "tox.loadData(textType='raw')"
   ]
  },
  {
   "cell_type": "markdown",
   "metadata": {},
   "source": [
    "`loadData()` method loads the data into the attributes `tox.trainData` and `tox.testData`. These are pandas `DataFrame`."
   ]
  },
  {
   "cell_type": "code",
   "execution_count": 6,
   "metadata": {},
   "outputs": [
    {
     "data": {
      "text/html": [
       "<div>\n",
       "<style scoped>\n",
       "    .dataframe tbody tr th:only-of-type {\n",
       "        vertical-align: middle;\n",
       "    }\n",
       "\n",
       "    .dataframe tbody tr th {\n",
       "        vertical-align: top;\n",
       "    }\n",
       "\n",
       "    .dataframe thead th {\n",
       "        text-align: right;\n",
       "    }\n",
       "</style>\n",
       "<table border=\"1\" class=\"dataframe\">\n",
       "  <thead>\n",
       "    <tr style=\"text-align: right;\">\n",
       "      <th></th>\n",
       "      <th>id</th>\n",
       "      <th>comment_text</th>\n",
       "      <th>toxic</th>\n",
       "      <th>severe_toxic</th>\n",
       "      <th>obscene</th>\n",
       "      <th>threat</th>\n",
       "      <th>insult</th>\n",
       "      <th>identity_hate</th>\n",
       "    </tr>\n",
       "  </thead>\n",
       "  <tbody>\n",
       "    <tr>\n",
       "      <th>31860</th>\n",
       "      <td>54a0bb8e5e2e3de1</td>\n",
       "      <td>Sir, can you please help me with my solution. ...</td>\n",
       "      <td>0</td>\n",
       "      <td>0</td>\n",
       "      <td>0</td>\n",
       "      <td>0</td>\n",
       "      <td>0</td>\n",
       "      <td>0</td>\n",
       "    </tr>\n",
       "    <tr>\n",
       "      <th>55514</th>\n",
       "      <td>945c9f767e5fe360</td>\n",
       "      <td>I think they're very outdated. Think it's wort...</td>\n",
       "      <td>0</td>\n",
       "      <td>0</td>\n",
       "      <td>0</td>\n",
       "      <td>0</td>\n",
       "      <td>0</td>\n",
       "      <td>0</td>\n",
       "    </tr>\n",
       "    <tr>\n",
       "      <th>151547</th>\n",
       "      <td>7ef790d4bbbb0a93</td>\n",
       "      <td>\"\\nRe the definition of what is obsolete, that...</td>\n",
       "      <td>0</td>\n",
       "      <td>0</td>\n",
       "      <td>0</td>\n",
       "      <td>0</td>\n",
       "      <td>0</td>\n",
       "      <td>0</td>\n",
       "    </tr>\n",
       "    <tr>\n",
       "      <th>88137</th>\n",
       "      <td>ebc6b4f2832f0a39</td>\n",
       "      <td>i find this very disrespectful to the gaming c...</td>\n",
       "      <td>0</td>\n",
       "      <td>0</td>\n",
       "      <td>0</td>\n",
       "      <td>0</td>\n",
       "      <td>0</td>\n",
       "      <td>0</td>\n",
       "    </tr>\n",
       "    <tr>\n",
       "      <th>74714</th>\n",
       "      <td>c7dc8a60cf4bd953</td>\n",
       "      <td>Is there an easy way to block the entire .tk d...</td>\n",
       "      <td>0</td>\n",
       "      <td>0</td>\n",
       "      <td>0</td>\n",
       "      <td>0</td>\n",
       "      <td>0</td>\n",
       "      <td>0</td>\n",
       "    </tr>\n",
       "  </tbody>\n",
       "</table>\n",
       "</div>"
      ],
      "text/plain": [
       "                      id                                       comment_text  \\\n",
       "31860   54a0bb8e5e2e3de1  Sir, can you please help me with my solution. ...   \n",
       "55514   945c9f767e5fe360  I think they're very outdated. Think it's wort...   \n",
       "151547  7ef790d4bbbb0a93  \"\\nRe the definition of what is obsolete, that...   \n",
       "88137   ebc6b4f2832f0a39  i find this very disrespectful to the gaming c...   \n",
       "74714   c7dc8a60cf4bd953  Is there an easy way to block the entire .tk d...   \n",
       "\n",
       "        toxic  severe_toxic  obscene  threat  insult  identity_hate  \n",
       "31860       0             0        0       0       0              0  \n",
       "55514       0             0        0       0       0              0  \n",
       "151547      0             0        0       0       0              0  \n",
       "88137       0             0        0       0       0              0  \n",
       "74714       0             0        0       0       0              0  "
      ]
     },
     "execution_count": 6,
     "metadata": {},
     "output_type": "execute_result"
    }
   ],
   "source": [
    "tox.trainData.sample(5)"
   ]
  },
  {
   "cell_type": "code",
   "execution_count": 7,
   "metadata": {},
   "outputs": [
    {
     "data": {
      "text/plain": [
       "id               159571\n",
       "comment_text     159571\n",
       "toxic            159571\n",
       "severe_toxic     159571\n",
       "obscene          159571\n",
       "threat           159571\n",
       "insult           159571\n",
       "identity_hate    159571\n",
       "dtype: int64"
      ]
     },
     "execution_count": 7,
     "metadata": {},
     "output_type": "execute_result"
    }
   ],
   "source": [
    "tox.trainData.count()"
   ]
  },
  {
   "cell_type": "markdown",
   "metadata": {},
   "source": [
    "As we can see, there is not missing value in the data. Next, we compute the number of samples in each class:"
   ]
  },
  {
   "cell_type": "code",
   "execution_count": 14,
   "metadata": {},
   "outputs": [
    {
     "data": {
      "image/png": "[encoded data removed]",
      "text/plain": [
       "<matplotlib.figure.Figure at 0x7efca4d62990>"
      ]
     },
     "metadata": {},
     "output_type": "display_data"
    }
   ],
   "source": [
    "fig=plt.figure(figsize=(4,3));\n",
    "tox.trainData.iloc[:,2:].sum().plot.bar();"
   ]
  },
  {
   "cell_type": "markdown",
   "metadata": {},
   "source": [
    "The calsses are highly imbalanced. 124473 of the comments are *normal* (do not belong to any of these six categories).  `toxic` has the highest frequency and `threat` has the lowest. Since the classes are imbalanced, accuracy is not a reasonable measure of performance and we will use area-under-curve (AUC) to compare the performance of different models.\n",
    "\n",
    "Next, we visualize the correlation between classes:"
   ]
  },
  {
   "cell_type": "code",
   "execution_count": 19,
   "metadata": {},
   "outputs": [
    {
     "data": {
      "image/png": "[encoded data removed]",
      "text/plain": [
       "<matplotlib.figure.Figure at 0x7efc9c8f2310>"
      ]
     },
     "metadata": {},
     "output_type": "display_data"
    }
   ],
   "source": [
    "fig=plt.figure(figsize=(4,3));\n",
    "corr=tox.trainData.iloc[:,2:].corr()\n",
    "mask = np.zeros_like(corr, dtype=np.bool)\n",
    "mask[np.triu_indices_from(mask)] = True\n",
    "sns.heatmap(corr,mask=mask);"
   ]
  },
  {
   "cell_type": "markdown",
   "metadata": {},
   "source": [
    "`toxic` has the lowest correlation with other classes. `insult` and `obscene` have the highest correlation.\n",
    "\n",
    "Before proceeding furthur we need to clean the comments. Them method `cleanData` removes all non-characters from the comments. It also gives the option to remove the stop-words. However, our preliminary results showed that excluding stop-words will cause lower performance and so we keep them in the data."
   ]
  },
  {
   "cell_type": "markdown",
   "metadata": {},
   "source": [
    "# Models "
   ]
  },
  {
   "cell_type": "markdown",
   "metadata": {},
   "source": [
    "We can think of at least two classes of models for text classification. In one class of models, each sample texts is  represented by a bag of words type of features. In this representation, the order of the words is lost. In contrast, the second class of models consider the dynamic nature of the text and so try to model the text as a sequence of words (or their embedding). Here, we consider both types of models and text representations. We train 3 models on the tf-idf representation of the texts: a naive Bayes multinomial model, a random forest and a gradient bossted tree. We also fit two dynamic models: a neural network with a temporal convolutional layer and a neural network with GRU layers. Finally, we will examine if adding the Glove embedding features pre-trained on a large corpus, will improve the performance of the neural network models."
   ]
  },
  {
   "cell_type": "markdown",
   "metadata": {},
   "source": [
    "## Multinomial Naive Bayes with tfidf faetues"
   ]
  },
  {
   "cell_type": "markdown",
   "metadata": {},
   "source": [
    "This is the simplest model and we use its performance as the baseline for comparting other models. We use tf-idf of the texts as the features. We compute tf-idf for words, and 3- and 4-grams of the characters. The method `loadOrCompute_tfidf` of the `Toxic` class uses `TfidfVectorizer` function in sklearn to perform these computations."
   ]
  },
  {
   "cell_type": "code",
   "execution_count": 14,
   "metadata": {
    "scrolled": true
   },
   "outputs": [
    {
     "data": {
      "text/html": [
       "<div>\n",
       "<style scoped>\n",
       "    .dataframe tbody tr th:only-of-type {\n",
       "        vertical-align: middle;\n",
       "    }\n",
       "\n",
       "    .dataframe tbody tr th {\n",
       "        vertical-align: top;\n",
       "    }\n",
       "\n",
       "    .dataframe thead th {\n",
       "        text-align: right;\n",
       "    }\n",
       "</style>\n",
       "<table border=\"1\" class=\"dataframe\">\n",
       "  <thead>\n",
       "    <tr style=\"text-align: right;\">\n",
       "      <th></th>\n",
       "      <th>mean_fit_time</th>\n",
       "      <th>mean_score_time</th>\n",
       "      <th>mean_test_score</th>\n",
       "      <th>mean_train_score</th>\n",
       "      <th>param_estimator__alpha</th>\n",
       "      <th>params</th>\n",
       "      <th>rank_test_score</th>\n",
       "      <th>split0_test_score</th>\n",
       "      <th>split0_train_score</th>\n",
       "      <th>split1_test_score</th>\n",
       "      <th>split1_train_score</th>\n",
       "      <th>split2_test_score</th>\n",
       "      <th>split2_train_score</th>\n",
       "      <th>std_fit_time</th>\n",
       "      <th>std_score_time</th>\n",
       "      <th>std_test_score</th>\n",
       "      <th>std_train_score</th>\n",
       "    </tr>\n",
       "  </thead>\n",
       "  <tbody>\n",
       "    <tr>\n",
       "      <th>0</th>\n",
       "      <td>1.403286</td>\n",
       "      <td>0.490825</td>\n",
       "      <td>0.945167</td>\n",
       "      <td>0.985632</td>\n",
       "      <td>0.001</td>\n",
       "      <td>{u'estimator__alpha': 0.001}</td>\n",
       "      <td>7</td>\n",
       "      <td>0.949438</td>\n",
       "      <td>0.985379</td>\n",
       "      <td>0.942400</td>\n",
       "      <td>0.985884</td>\n",
       "      <td>0.943664</td>\n",
       "      <td>0.985633</td>\n",
       "      <td>0.001325</td>\n",
       "      <td>0.000471</td>\n",
       "      <td>0.003064</td>\n",
       "      <td>0.000206</td>\n",
       "    </tr>\n",
       "    <tr>\n",
       "      <th>1</th>\n",
       "      <td>1.476180</td>\n",
       "      <td>0.511075</td>\n",
       "      <td>0.950666</td>\n",
       "      <td>0.985026</td>\n",
       "      <td>0.00278256</td>\n",
       "      <td>{u'estimator__alpha': 0.0027825594022071257}</td>\n",
       "      <td>5</td>\n",
       "      <td>0.955003</td>\n",
       "      <td>0.984759</td>\n",
       "      <td>0.947940</td>\n",
       "      <td>0.985300</td>\n",
       "      <td>0.949056</td>\n",
       "      <td>0.985019</td>\n",
       "      <td>0.058532</td>\n",
       "      <td>0.005603</td>\n",
       "      <td>0.003100</td>\n",
       "      <td>0.000221</td>\n",
       "    </tr>\n",
       "    <tr>\n",
       "      <th>2</th>\n",
       "      <td>1.507239</td>\n",
       "      <td>0.511628</td>\n",
       "      <td>0.955831</td>\n",
       "      <td>0.984225</td>\n",
       "      <td>0.00774264</td>\n",
       "      <td>{u'estimator__alpha': 0.007742636826811269}</td>\n",
       "      <td>4</td>\n",
       "      <td>0.960169</td>\n",
       "      <td>0.983933</td>\n",
       "      <td>0.953175</td>\n",
       "      <td>0.984530</td>\n",
       "      <td>0.954150</td>\n",
       "      <td>0.984211</td>\n",
       "      <td>0.046549</td>\n",
       "      <td>0.013141</td>\n",
       "      <td>0.003093</td>\n",
       "      <td>0.000244</td>\n",
       "    </tr>\n",
       "    <tr>\n",
       "      <th>3</th>\n",
       "      <td>1.430576</td>\n",
       "      <td>0.491431</td>\n",
       "      <td>0.959990</td>\n",
       "      <td>0.983066</td>\n",
       "      <td>0.0215443</td>\n",
       "      <td>{u'estimator__alpha': 0.021544346900318832}</td>\n",
       "      <td>2</td>\n",
       "      <td>0.964093</td>\n",
       "      <td>0.982717</td>\n",
       "      <td>0.957487</td>\n",
       "      <td>0.983426</td>\n",
       "      <td>0.958391</td>\n",
       "      <td>0.983055</td>\n",
       "      <td>0.029379</td>\n",
       "      <td>0.001516</td>\n",
       "      <td>0.002925</td>\n",
       "      <td>0.000290</td>\n",
       "    </tr>\n",
       "    <tr>\n",
       "      <th>4</th>\n",
       "      <td>1.414461</td>\n",
       "      <td>0.491405</td>\n",
       "      <td>0.961997</td>\n",
       "      <td>0.980990</td>\n",
       "      <td>0.0599484</td>\n",
       "      <td>{u'estimator__alpha': 0.05994842503189409}</td>\n",
       "      <td>1</td>\n",
       "      <td>0.965745</td>\n",
       "      <td>0.980506</td>\n",
       "      <td>0.959604</td>\n",
       "      <td>0.981457</td>\n",
       "      <td>0.960641</td>\n",
       "      <td>0.981006</td>\n",
       "      <td>0.016500</td>\n",
       "      <td>0.000970</td>\n",
       "      <td>0.002684</td>\n",
       "      <td>0.000388</td>\n",
       "    </tr>\n",
       "    <tr>\n",
       "      <th>5</th>\n",
       "      <td>1.472594</td>\n",
       "      <td>0.516440</td>\n",
       "      <td>0.959624</td>\n",
       "      <td>0.975881</td>\n",
       "      <td>0.16681</td>\n",
       "      <td>{u'estimator__alpha': 0.1668100537200059}</td>\n",
       "      <td>3</td>\n",
       "      <td>0.963214</td>\n",
       "      <td>0.975064</td>\n",
       "      <td>0.957186</td>\n",
       "      <td>0.976643</td>\n",
       "      <td>0.958473</td>\n",
       "      <td>0.975935</td>\n",
       "      <td>0.063786</td>\n",
       "      <td>0.019757</td>\n",
       "      <td>0.002592</td>\n",
       "      <td>0.000646</td>\n",
       "    </tr>\n",
       "    <tr>\n",
       "      <th>6</th>\n",
       "      <td>1.485177</td>\n",
       "      <td>0.511895</td>\n",
       "      <td>0.948841</td>\n",
       "      <td>0.962518</td>\n",
       "      <td>0.464159</td>\n",
       "      <td>{u'estimator__alpha': 0.46415888336127775}</td>\n",
       "      <td>6</td>\n",
       "      <td>0.952521</td>\n",
       "      <td>0.960992</td>\n",
       "      <td>0.946411</td>\n",
       "      <td>0.963752</td>\n",
       "      <td>0.947590</td>\n",
       "      <td>0.962809</td>\n",
       "      <td>0.048423</td>\n",
       "      <td>0.014200</td>\n",
       "      <td>0.002646</td>\n",
       "      <td>0.001145</td>\n",
       "    </tr>\n",
       "    <tr>\n",
       "      <th>7</th>\n",
       "      <td>1.503350</td>\n",
       "      <td>0.505790</td>\n",
       "      <td>0.925501</td>\n",
       "      <td>0.935874</td>\n",
       "      <td>1.29155</td>\n",
       "      <td>{u'estimator__alpha': 1.2915496650148828}</td>\n",
       "      <td>8</td>\n",
       "      <td>0.929543</td>\n",
       "      <td>0.933655</td>\n",
       "      <td>0.923170</td>\n",
       "      <td>0.937393</td>\n",
       "      <td>0.923790</td>\n",
       "      <td>0.936573</td>\n",
       "      <td>0.063010</td>\n",
       "      <td>0.019299</td>\n",
       "      <td>0.002869</td>\n",
       "      <td>0.001604</td>\n",
       "    </tr>\n",
       "    <tr>\n",
       "      <th>8</th>\n",
       "      <td>1.473361</td>\n",
       "      <td>0.514466</td>\n",
       "      <td>0.889846</td>\n",
       "      <td>0.896685</td>\n",
       "      <td>3.59381</td>\n",
       "      <td>{u'estimator__alpha': 3.593813663804626}</td>\n",
       "      <td>9</td>\n",
       "      <td>0.894346</td>\n",
       "      <td>0.894098</td>\n",
       "      <td>0.887417</td>\n",
       "      <td>0.898279</td>\n",
       "      <td>0.887774</td>\n",
       "      <td>0.897679</td>\n",
       "      <td>0.051041</td>\n",
       "      <td>0.014419</td>\n",
       "      <td>0.003186</td>\n",
       "      <td>0.001846</td>\n",
       "    </tr>\n",
       "    <tr>\n",
       "      <th>9</th>\n",
       "      <td>1.493977</td>\n",
       "      <td>0.522977</td>\n",
       "      <td>0.849323</td>\n",
       "      <td>0.853293</td>\n",
       "      <td>10</td>\n",
       "      <td>{u'estimator__alpha': 10.0}</td>\n",
       "      <td>10</td>\n",
       "      <td>0.854040</td>\n",
       "      <td>0.850717</td>\n",
       "      <td>0.846438</td>\n",
       "      <td>0.855006</td>\n",
       "      <td>0.847490</td>\n",
       "      <td>0.854155</td>\n",
       "      <td>0.069695</td>\n",
       "      <td>0.038219</td>\n",
       "      <td>0.003363</td>\n",
       "      <td>0.001854</td>\n",
       "    </tr>\n",
       "  </tbody>\n",
       "</table>\n",
       "</div>"
      ],
      "text/plain": [
       "   mean_fit_time  mean_score_time  mean_test_score  mean_train_score  \\\n",
       "0       1.403286         0.490825         0.945167          0.985632   \n",
       "1       1.476180         0.511075         0.950666          0.985026   \n",
       "2       1.507239         0.511628         0.955831          0.984225   \n",
       "3       1.430576         0.491431         0.959990          0.983066   \n",
       "4       1.414461         0.491405         0.961997          0.980990   \n",
       "5       1.472594         0.516440         0.959624          0.975881   \n",
       "6       1.485177         0.511895         0.948841          0.962518   \n",
       "7       1.503350         0.505790         0.925501          0.935874   \n",
       "8       1.473361         0.514466         0.889846          0.896685   \n",
       "9       1.493977         0.522977         0.849323          0.853293   \n",
       "\n",
       "  param_estimator__alpha                                        params  \\\n",
       "0                  0.001                  {u'estimator__alpha': 0.001}   \n",
       "1             0.00278256  {u'estimator__alpha': 0.0027825594022071257}   \n",
       "2             0.00774264   {u'estimator__alpha': 0.007742636826811269}   \n",
       "3              0.0215443   {u'estimator__alpha': 0.021544346900318832}   \n",
       "4              0.0599484    {u'estimator__alpha': 0.05994842503189409}   \n",
       "5                0.16681     {u'estimator__alpha': 0.1668100537200059}   \n",
       "6               0.464159    {u'estimator__alpha': 0.46415888336127775}   \n",
       "7                1.29155     {u'estimator__alpha': 1.2915496650148828}   \n",
       "8                3.59381      {u'estimator__alpha': 3.593813663804626}   \n",
       "9                     10                   {u'estimator__alpha': 10.0}   \n",
       "\n",
       "   rank_test_score  split0_test_score  split0_train_score  split1_test_score  \\\n",
       "0                7           0.949438            0.985379           0.942400   \n",
       "1                5           0.955003            0.984759           0.947940   \n",
       "2                4           0.960169            0.983933           0.953175   \n",
       "3                2           0.964093            0.982717           0.957487   \n",
       "4                1           0.965745            0.980506           0.959604   \n",
       "5                3           0.963214            0.975064           0.957186   \n",
       "6                6           0.952521            0.960992           0.946411   \n",
       "7                8           0.929543            0.933655           0.923170   \n",
       "8                9           0.894346            0.894098           0.887417   \n",
       "9               10           0.854040            0.850717           0.846438   \n",
       "\n",
       "   split1_train_score  split2_test_score  split2_train_score  std_fit_time  \\\n",
       "0            0.985884           0.943664            0.985633      0.001325   \n",
       "1            0.985300           0.949056            0.985019      0.058532   \n",
       "2            0.984530           0.954150            0.984211      0.046549   \n",
       "3            0.983426           0.958391            0.983055      0.029379   \n",
       "4            0.981457           0.960641            0.981006      0.016500   \n",
       "5            0.976643           0.958473            0.975935      0.063786   \n",
       "6            0.963752           0.947590            0.962809      0.048423   \n",
       "7            0.937393           0.923790            0.936573      0.063010   \n",
       "8            0.898279           0.887774            0.897679      0.051041   \n",
       "9            0.855006           0.847490            0.854155      0.069695   \n",
       "\n",
       "   std_score_time  std_test_score  std_train_score  \n",
       "0        0.000471        0.003064         0.000206  \n",
       "1        0.005603        0.003100         0.000221  \n",
       "2        0.013141        0.003093         0.000244  \n",
       "3        0.001516        0.002925         0.000290  \n",
       "4        0.000970        0.002684         0.000388  \n",
       "5        0.019757        0.002592         0.000646  \n",
       "6        0.014200        0.002646         0.001145  \n",
       "7        0.019299        0.002869         0.001604  \n",
       "8        0.014419        0.003186         0.001846  \n",
       "9        0.038219        0.003363         0.001854  "
      ]
     },
     "execution_count": 14,
     "metadata": {},
     "output_type": "execute_result"
    }
   ],
   "source": [
    "#===load packages===\n",
    "from time import ctime\n",
    "from os.path import join\n",
    "from scipy.sparse import load_npz\n",
    "import numpy as np\n",
    "from sklearn.naive_bayes import MultinomialNB\n",
    "from sklearn.model_selection import GridSearchCV\n",
    "from sklearn.metrics import roc_auc_score,make_scorer\n",
    "from sklearn.multioutput import MultiOutputClassifier\n",
    "#===load packages===\n",
    "\n",
    "#===load feature and target values===\n",
    "dataDir = '/home/arash/datasets/Kaggle/Toxic'\n",
    "X_train = load_npz(join(dataDir,'train_tfidf_dict_size_20000.npz'))\n",
    "X_test = load_npz(join(dataDir,'test_tfidf_dict_size_20000.npz'))\n",
    "Y_train=np.fromfile(join(dataDir,'Y_train'),'int8').reshape((-1,6))\n",
    "#===load feature and target values===\n",
    "\n",
    "#===grid search over alpha===\n",
    "mnb = MultiOutputClassifier(MultinomialNB())\n",
    "param_grid={'estimator__alpha': np.logspace(-3,1,10)}\n",
    "clf = GridSearchCV(mnb,param_grid=param_grid,\n",
    "                   scoring=make_scorer(roc_auc_score,needs_threshold=True))\n",
    "clf.fit(X_train,Y_train)\n",
    "df=pd.DataFrame(clf.cv_results_)\n",
    "df\n",
    "#===grid search over alpha===\n"
   ]
  },
  {
   "cell_type": "markdown",
   "metadata": {},
   "source": [
    "So the optimal value is `alpha=0.059`. We re-fit the model with this parameter to the whole data:"
   ]
  },
  {
   "cell_type": "code",
   "execution_count": 13,
   "metadata": {},
   "outputs": [],
   "source": [
    "clf = clf.best_estimator_.fit(X_train,Y_train)\n",
    "Y_test = np.hstack([x[:,[1]] for x in clf.predict_proba(X_test)])"
   ]
  },
  {
   "cell_type": "markdown",
   "metadata": {},
   "source": [
    "The roc_auc score of this model on the test data is **0.9570**. We use this as the baseline score and compare other models to this baseline."
   ]
  },
  {
   "cell_type": "markdown",
   "metadata": {},
   "source": [
    "## Gaussian Naive Bayes with Glove features"
   ]
  },
  {
   "cell_type": "markdown",
   "metadata": {},
   "source": [
    "This model also uses the naive Bayes classifier. However, it uses different features than the previous model. Here, we represent each sample text as a vector which is obtained by averaging the Glove vector representation of the words of that text. To compute these features we use the method `Toxic.loadOrComputeAvgGlove()`. This function, builds a neural network with one embedding layer and one output layer. The input to the network are the texts represented as word sequences. The weights of the embedding layer are the Glove weights pre-trained on a 2014 dump of English Wikipedia (which can be dowloaded from [here](http://nlp.stanford.edu/data/glove.6B.zip)). The output of the embedding layer is fed into a `keras.AveragePooling1D` layer which computes the average of the glove features for each text.\n",
    "\n",
    "Since the features are continuous we use Gaussian naive Bayes classifier."
   ]
  },
  {
   "cell_type": "code",
   "execution_count": 5,
   "metadata": {},
   "outputs": [],
   "source": [
    "#===load packages===\n",
    "from time import ctime\n",
    "from os.path import join\n",
    "from scipy.sparse import load_npz\n",
    "import numpy as np\n",
    "from sklearn.naive_bayes import GaussianNB\n",
    "from sklearn.multioutput import MultiOutputClassifier\n",
    "from toxic.base import Toxic\n",
    "#===load packages===\n",
    "\n",
    "#===load feature and target values===\n",
    "tox = Toxic()\n",
    "tox.loadOrComputeAvgGlove(embed_dim=50,dict_size=20000,max_seq_len=50,\n",
    "                          loadOrCompute='load')\n",
    "Y_train=np.fromfile(join(tox.dataDir,'Y_train'),'int8').reshape((-1,6))\n",
    "#===load feature and target values===\n",
    "\n",
    "#===build and fit the model===\n",
    "gnb=MultiOutputClassifier(GaussianNB())\n",
    "gnb=gnb.fit(tox.trainFeatureMat,Y_train)\n",
    "#===build and fit the model==="
   ]
  },
  {
   "cell_type": "code",
   "execution_count": 7,
   "metadata": {},
   "outputs": [],
   "source": [
    "Y_test = np.hstack([x[:,[1]] for x in gnb.predict_proba(tox.testFeatureMat)])"
   ]
  },
  {
   "cell_type": "markdown",
   "metadata": {},
   "source": [
    "The AUC on the test set is **0.8645**. So this model performs very poorly. The reason could be the Gaussian NB classifier or poor features. Since the average Glove features could take negative values we cannot use the multinomial NB classifier. To examine the effect of the classfier, later we will use the average Glove features with the boosted tree classifiers. "
   ]
  },
  {
   "cell_type": "markdown",
   "metadata": {},
   "source": [
    "# References "
   ]
  },
  {
   "cell_type": "markdown",
   "metadata": {},
   "source": [
    "<a id='glove'></a> 1. Pennington, J., Socher, R., & Manning, C. (2014). Glove: Global vectors for word representation. In Proceedings of the 2014 conference on empirical methods in natural language processing (EMNLP) (pp. 1532-1543)."
   ]
  }
 ],
 "metadata": {
  "kernelspec": {
   "display_name": "Python 2",
   "language": "python",
   "name": "python2"
  },
  "language_info": {
   "codemirror_mode": {
    "name": "ipython",
    "version": 2
   },
   "file_extension": ".py",
   "mimetype": "text/x-python",
   "name": "python",
   "nbconvert_exporter": "python",
   "pygments_lexer": "ipython2",
   "version": "2.7.14"
  }
 },
 "nbformat": 4,
 "nbformat_minor": 2
}
