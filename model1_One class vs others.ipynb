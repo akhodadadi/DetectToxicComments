{
 "cells": [
  {
   "cell_type": "markdown",
   "metadata": {},
   "source": [
    "# One class vs others"
   ]
  },
  {
   "cell_type": "markdown",
   "metadata": {},
   "source": [
    "Here we train a model to classify a class vs others. The sample are from the following:\n",
    "\n",
    "+ All samples from the desired class. Let N denote the number of these samples.\n",
    "+ At most N samples from other classes\n",
    "+ N samples from the normal samples (those samples which do not belong to any of the six classes).\n"
   ]
  },
  {
   "cell_type": "code",
   "execution_count": 1,
   "metadata": {
    "collapsed": true
   },
   "outputs": [],
   "source": [
    "%matplotlib inline\n",
    "import matplotlib.pyplot as plt\n",
    "import pandas as pd\n",
    "import numpy as np\n",
    "from sklearn.utils import shuffle"
   ]
  },
  {
   "cell_type": "markdown",
   "metadata": {},
   "source": [
    "# Train data"
   ]
  },
  {
   "cell_type": "code",
   "execution_count": 43,
   "metadata": {},
   "outputs": [
    {
     "name": "stdout",
     "output_type": "stream",
     "text": [
      "Total number of samples: 24674 \n",
      "there are 8449 postive samples\n"
     ]
    }
   ],
   "source": [
    "des_class='obscene'#desired class\n",
    "\n",
    "df=pd.read_csv('/home/arash/MEGA/MEGAsync/Machine Learning/Kaggle/Toxic/Data/train.csv')\n",
    "class_names=df.columns[2:].tolist()\n",
    "des_idx = class_names.index(des_class)#index of the desired class\n",
    "n_classes = np.sum(df[class_names].values,axis=0)\n",
    "n_des_class=n_classes[des_idx]\n",
    "labels_sum=np.sum(df[class_names].values,axis=1)\n",
    "\n",
    "df_des_class = df[df[des_class]==1]#all samples from the desired class\n",
    "df_other_classes = df[(df[des_class]==0) & (labels_sum!=0)]#samples from other classes\n",
    "if n_des_class<df_other_classes.shape[0]:\n",
    "    df_other_classes=df_other_classes.sample(n_des_class)\n",
    "df_normal=df.iloc[labels_sum==0,:].sample(n_des_class)#samples from normal texts\n",
    "\n",
    "texts = df_des_class.comment_text.tolist()+ df_other_classes.comment_text.tolist()+\\\n",
    "        df_normal.comment_text.tolist()\n",
    "labels = np.hstack((df_des_class[des_class].values,\n",
    "                    df_other_classes[des_class].values,\n",
    "                   df_normal[des_class].values))\n",
    "\n",
    "texts , labels = shuffle(texts,labels,random_state=0)\n",
    "\n",
    "print('Total number of samples: %d '%len(texts))\n",
    "print('there are %d postive samples'%df_des_class.shape[0])"
   ]
  },
  {
   "cell_type": "markdown",
   "metadata": {},
   "source": [
    "# Feature extraction"
   ]
  },
  {
   "cell_type": "code",
   "execution_count": 44,
   "metadata": {},
   "outputs": [
    {
     "data": {
      "image/png": "[encoded data removed]",
      "text/plain": [
       "<matplotlib.figure.Figure at 0x7f1feadcc750>"
      ]
     },
     "metadata": {},
     "output_type": "display_data"
    }
   ],
   "source": [
    "from keras.preprocessing.text import Tokenizer\n",
    "from keras.preprocessing.sequence import pad_sequences\n",
    "T = Tokenizer()\n",
    "T.fit_on_texts(texts)\n",
    "sequences=T.texts_to_sequences(texts)\n",
    "seq_len = map(lambda x:len(x),sequences)\n",
    "_=plt.hist(seq_len,50)\n",
    "MAX_SEQ_LEN = 200\n",
    "X = pad_sequences(sequences=sequences,maxlen=MAX_SEQ_LEN,padding='pre')\n",
    "DICT_SIZE=np.max(X)+1"
   ]
  },
  {
   "cell_type": "markdown",
   "metadata": {},
   "source": [
    "# Model"
   ]
  },
  {
   "cell_type": "code",
   "execution_count": 50,
   "metadata": {},
   "outputs": [
    {
     "name": "stdout",
     "output_type": "stream",
     "text": [
      "__________________________________________________________________________________________________\n",
      "Layer (type)                    Output Shape         Param #     Connected to                     \n",
      "==================================================================================================\n",
      "input_22 (InputLayer)           (None, 200)          0                                            \n",
      "__________________________________________________________________________________________________\n",
      "embedding_22 (Embedding)        (None, 200, 50)      2833500     input_22[0][0]                   \n",
      "__________________________________________________________________________________________________\n",
      "conv1d_37 (Conv1D)              (None, 198, 10)      1510        embedding_22[0][0]               \n",
      "__________________________________________________________________________________________________\n",
      "conv1d_38 (Conv1D)              (None, 197, 10)      2010        embedding_22[0][0]               \n",
      "__________________________________________________________________________________________________\n",
      "conv1d_39 (Conv1D)              (None, 196, 10)      2510        embedding_22[0][0]               \n",
      "__________________________________________________________________________________________________\n",
      "max_pooling1d_25 (MaxPooling1D) (None, 1, 10)        0           conv1d_37[0][0]                  \n",
      "__________________________________________________________________________________________________\n",
      "max_pooling1d_26 (MaxPooling1D) (None, 1, 10)        0           conv1d_38[0][0]                  \n",
      "__________________________________________________________________________________________________\n",
      "max_pooling1d_27 (MaxPooling1D) (None, 1, 10)        0           conv1d_39[0][0]                  \n",
      "__________________________________________________________________________________________________\n",
      "concatenate_9 (Concatenate)     (None, 1, 30)        0           max_pooling1d_25[0][0]           \n",
      "                                                                 max_pooling1d_26[0][0]           \n",
      "                                                                 max_pooling1d_27[0][0]           \n",
      "__________________________________________________________________________________________________\n",
      "flatten_16 (Flatten)            (None, 30)           0           concatenate_9[0][0]              \n",
      "__________________________________________________________________________________________________\n",
      "dense_29 (Dense)                (None, 100)          3100        flatten_16[0][0]                 \n",
      "__________________________________________________________________________________________________\n",
      "dropout_15 (Dropout)            (None, 100)          0           dense_29[0][0]                   \n",
      "__________________________________________________________________________________________________\n",
      "dense_30 (Dense)                (None, 50)           5050        dropout_15[0][0]                 \n",
      "__________________________________________________________________________________________________\n",
      "dropout_16 (Dropout)            (None, 50)           0           dense_30[0][0]                   \n",
      "__________________________________________________________________________________________________\n",
      "dense_31 (Dense)                (None, 1)            51          dropout_16[0][0]                 \n",
      "==================================================================================================\n",
      "Total params: 2,847,731\n",
      "Trainable params: 2,847,731\n",
      "Non-trainable params: 0\n",
      "__________________________________________________________________________________________________\n"
     ]
    }
   ],
   "source": [
    "from keras.models import Model\n",
    "from keras.layers import Input,Conv1D,Dense,Embedding,Flatten,concatenate,MaxPool1D,Dropout\n",
    "\n",
    "d_r=.8#dropout rate\n",
    "\n",
    "inputs = Input(shape=(MAX_SEQ_LEN,))\n",
    "embed1 = Embedding(input_dim=DICT_SIZE,output_dim=50,input_length=MAX_SEQ_LEN)(inputs)\n",
    "\n",
    "n_featMap=10\n",
    "conv1_k3 = Conv1D(filters=n_featMap,kernel_size=3,strides=1,activation='relu')(embed1)\n",
    "pool1_k3 = MaxPool1D(pool_size=int(conv1_k3.get_shape()[1]))(conv1_k3)#max pool over all words\n",
    "conv1_k4 = Conv1D(filters=n_featMap,kernel_size=4,strides=1,activation='relu')(embed1)\n",
    "pool1_k4 = MaxPool1D(pool_size=int(conv1_k4.get_shape()[1]))(conv1_k4)#max pool over all words\n",
    "conv1_k5 = Conv1D(filters=n_featMap,kernel_size=5,strides=1,activation='relu')(embed1)\n",
    "pool1_k5 = MaxPool1D(pool_size=int(conv1_k5.get_shape()[1]))(conv1_k5)#max pool over all words\n",
    "\n",
    "features1 = Flatten()(concatenate([pool1_k3,pool1_k4,pool1_k5]))\n",
    "dense1 = Dropout(d_r)(Dense(100,activation='sigmoid')(features1))\n",
    "dense2 = Dropout(d_r)(Dense(50,activation='sigmoid')(dense1))\n",
    "out = Dense(1,activation='sigmoid')(dense2)\n",
    "\n",
    "model = Model(inputs=inputs,outputs=out)\n",
    "model.summary()"
   ]
  },
  {
   "cell_type": "code",
   "execution_count": 51,
   "metadata": {},
   "outputs": [
    {
     "name": "stdout",
     "output_type": "stream",
     "text": [
      "Train on 22206 samples, validate on 2468 samples\n",
      "Epoch 1/100\n",
      "22206/22206 [==============================] - 27s 1ms/step - loss: 0.6967 - acc: 0.6165 - val_loss: 0.6397 - val_acc: 0.6499\n",
      "Epoch 2/100\n",
      "22206/22206 [==============================] - 27s 1ms/step - loss: 0.6183 - acc: 0.6737 - val_loss: 0.4913 - val_acc: 0.7954\n",
      "Epoch 3/100\n",
      "22206/22206 [==============================] - 27s 1ms/step - loss: 0.4053 - acc: 0.8424 - val_loss: 0.2867 - val_acc: 0.8910\n",
      "Epoch 4/100\n",
      "22206/22206 [==============================] - 27s 1ms/step - loss: 0.3337 - acc: 0.8810 - val_loss: 0.2707 - val_acc: 0.8947\n",
      "Epoch 5/100\n",
      "22206/22206 [==============================] - 27s 1ms/step - loss: 0.3079 - acc: 0.8895 - val_loss: 0.2714 - val_acc: 0.8938\n",
      "Epoch 6/100\n",
      "22206/22206 [==============================] - 27s 1ms/step - loss: 0.2902 - acc: 0.8967 - val_loss: 0.2787 - val_acc: 0.8979\n",
      "Epoch 7/100\n",
      "22206/22206 [==============================] - 27s 1ms/step - loss: 0.2777 - acc: 0.9016 - val_loss: 0.2782 - val_acc: 0.8959\n",
      "Epoch 8/100\n",
      "22206/22206 [==============================] - 27s 1ms/step - loss: 0.2612 - acc: 0.9065 - val_loss: 0.2871 - val_acc: 0.8947\n",
      "Epoch 9/100\n",
      "22206/22206 [==============================] - 27s 1ms/step - loss: 0.2483 - acc: 0.9133 - val_loss: 0.3000 - val_acc: 0.8938\n",
      "Epoch 10/100\n",
      "22206/22206 [==============================] - 27s 1ms/step - loss: 0.2340 - acc: 0.9185 - val_loss: 0.3148 - val_acc: 0.8922\n",
      "Epoch 11/100\n",
      "22206/22206 [==============================] - 27s 1ms/step - loss: 0.2144 - acc: 0.9242 - val_loss: 0.3200 - val_acc: 0.8845\n",
      "Epoch 12/100\n",
      "22206/22206 [==============================] - 27s 1ms/step - loss: 0.1980 - acc: 0.9308 - val_loss: 0.3475 - val_acc: 0.8784\n",
      "Epoch 13/100\n",
      "22206/22206 [==============================] - 27s 1ms/step - loss: 0.1832 - acc: 0.9372 - val_loss: 0.3659 - val_acc: 0.8768\n",
      "Epoch 14/100\n",
      "22206/22206 [==============================] - 27s 1ms/step - loss: 0.1681 - acc: 0.9450 - val_loss: 0.3771 - val_acc: 0.8756\n",
      "Epoch 15/100\n",
      "22206/22206 [==============================] - 27s 1ms/step - loss: 0.1529 - acc: 0.9529 - val_loss: 0.4333 - val_acc: 0.8780\n",
      "Epoch 16/100\n",
      "22206/22206 [==============================] - 27s 1ms/step - loss: 0.1360 - acc: 0.9578 - val_loss: 0.4486 - val_acc: 0.8687\n",
      "Epoch 17/100\n",
      "22206/22206 [==============================] - 27s 1ms/step - loss: 0.1207 - acc: 0.9644 - val_loss: 0.5036 - val_acc: 0.8541\n",
      "Epoch 18/100\n",
      "22206/22206 [==============================] - 27s 1ms/step - loss: 0.1075 - acc: 0.9696 - val_loss: 0.5539 - val_acc: 0.8618\n",
      "Epoch 19/100\n",
      "22206/22206 [==============================] - 27s 1ms/step - loss: 0.0928 - acc: 0.9746 - val_loss: 0.6055 - val_acc: 0.8476\n",
      "Epoch 20/100\n",
      "22206/22206 [==============================] - 27s 1ms/step - loss: 0.0854 - acc: 0.9768 - val_loss: 0.6761 - val_acc: 0.8460\n",
      "Epoch 21/100\n",
      "22206/22206 [==============================] - 27s 1ms/step - loss: 0.0778 - acc: 0.9811 - val_loss: 0.7005 - val_acc: 0.8489\n",
      "Epoch 22/100\n",
      "22206/22206 [==============================] - 27s 1ms/step - loss: 0.0732 - acc: 0.9819 - val_loss: 0.7540 - val_acc: 0.8416\n",
      "Epoch 23/100\n",
      "22206/22206 [==============================] - 29s 1ms/step - loss: 0.0659 - acc: 0.9847 - val_loss: 0.7929 - val_acc: 0.8558\n",
      "Epoch 24/100\n",
      "22206/22206 [==============================] - 27s 1ms/step - loss: 0.0592 - acc: 0.9862 - val_loss: 0.8596 - val_acc: 0.8590\n",
      "Epoch 25/100\n",
      "22206/22206 [==============================] - 27s 1ms/step - loss: 0.0552 - acc: 0.9868 - val_loss: 0.8729 - val_acc: 0.8562\n",
      "Epoch 26/100\n",
      "22206/22206 [==============================] - 27s 1ms/step - loss: 0.0525 - acc: 0.9873 - val_loss: 0.9357 - val_acc: 0.8610\n",
      "Epoch 27/100\n",
      "22206/22206 [==============================] - 27s 1ms/step - loss: 0.0484 - acc: 0.9895 - val_loss: 0.9408 - val_acc: 0.8558\n",
      "Epoch 28/100\n",
      "22206/22206 [==============================] - 27s 1ms/step - loss: 0.0464 - acc: 0.9897 - val_loss: 1.0301 - val_acc: 0.8489\n",
      "Epoch 29/100\n",
      "22206/22206 [==============================] - 27s 1ms/step - loss: 0.0464 - acc: 0.9905 - val_loss: 1.0487 - val_acc: 0.8440\n",
      "Epoch 30/100\n",
      "22206/22206 [==============================] - 28s 1ms/step - loss: 0.0439 - acc: 0.9908 - val_loss: 1.1918 - val_acc: 0.8505\n",
      "Epoch 31/100\n",
      "22206/22206 [==============================] - 27s 1ms/step - loss: 0.0423 - acc: 0.9917 - val_loss: 1.0815 - val_acc: 0.8476\n",
      "Epoch 32/100\n",
      "22206/22206 [==============================] - 27s 1ms/step - loss: 0.0383 - acc: 0.9918 - val_loss: 1.3064 - val_acc: 0.8529\n",
      "Epoch 33/100\n",
      "22206/22206 [==============================] - 28s 1ms/step - loss: 0.0393 - acc: 0.9914 - val_loss: 1.2285 - val_acc: 0.8570\n",
      "Epoch 34/100\n",
      "22206/22206 [==============================] - 28s 1ms/step - loss: 0.0402 - acc: 0.9916 - val_loss: 1.3229 - val_acc: 0.8525\n",
      "Epoch 35/100\n",
      "22206/22206 [==============================] - 28s 1ms/step - loss: 0.0376 - acc: 0.9922 - val_loss: 1.3107 - val_acc: 0.8574\n",
      "Epoch 36/100\n",
      "22206/22206 [==============================] - 27s 1ms/step - loss: 0.0357 - acc: 0.9932 - val_loss: 1.4391 - val_acc: 0.8553\n",
      "Epoch 37/100\n",
      "22206/22206 [==============================] - 27s 1ms/step - loss: 0.0360 - acc: 0.9934 - val_loss: 1.3405 - val_acc: 0.8541\n",
      "Epoch 38/100\n",
      "22206/22206 [==============================] - 27s 1ms/step - loss: 0.0331 - acc: 0.9936 - val_loss: 1.4207 - val_acc: 0.8590\n",
      "Epoch 39/100\n",
      "22206/22206 [==============================] - 27s 1ms/step - loss: 0.0368 - acc: 0.9933 - val_loss: 1.6582 - val_acc: 0.8525\n",
      "Epoch 40/100\n",
      "22206/22206 [==============================] - 27s 1ms/step - loss: 0.0332 - acc: 0.9941 - val_loss: 1.5015 - val_acc: 0.8606\n",
      "Epoch 41/100\n",
      "22206/22206 [==============================] - 27s 1ms/step - loss: 0.0335 - acc: 0.9939 - val_loss: 1.5417 - val_acc: 0.8606\n",
      "Epoch 42/100\n",
      "22206/22206 [==============================] - 27s 1ms/step - loss: 0.0347 - acc: 0.9938 - val_loss: 1.5939 - val_acc: 0.8481\n",
      "Epoch 43/100\n",
      "22206/22206 [==============================] - 27s 1ms/step - loss: 0.0373 - acc: 0.9937 - val_loss: 1.5810 - val_acc: 0.8570\n",
      "Epoch 44/100\n",
      "22206/22206 [==============================] - 27s 1ms/step - loss: 0.0314 - acc: 0.9936 - val_loss: 1.6767 - val_acc: 0.8533\n",
      "Epoch 45/100\n",
      "22206/22206 [==============================] - 27s 1ms/step - loss: 0.0356 - acc: 0.9949 - val_loss: 1.6176 - val_acc: 0.8509\n",
      "Epoch 46/100\n",
      "22206/22206 [==============================] - 27s 1ms/step - loss: 0.0332 - acc: 0.9940 - val_loss: 1.5312 - val_acc: 0.8570\n",
      "Epoch 47/100\n",
      "22206/22206 [==============================] - 27s 1ms/step - loss: 0.0316 - acc: 0.9946 - val_loss: 1.6907 - val_acc: 0.8525\n",
      "Epoch 48/100\n",
      "22206/22206 [==============================] - 27s 1ms/step - loss: 0.0315 - acc: 0.9952 - val_loss: 1.6849 - val_acc: 0.8521\n",
      "Epoch 49/100\n",
      "22206/22206 [==============================] - 27s 1ms/step - loss: 0.0330 - acc: 0.9947 - val_loss: 1.8491 - val_acc: 0.8468\n",
      "Epoch 50/100\n",
      "22206/22206 [==============================] - 28s 1ms/step - loss: 0.0304 - acc: 0.9947 - val_loss: 1.8403 - val_acc: 0.8468\n",
      "Epoch 51/100\n",
      "22206/22206 [==============================] - 27s 1ms/step - loss: 0.0312 - acc: 0.9940 - val_loss: 1.8109 - val_acc: 0.8537\n",
      "Epoch 52/100\n",
      "22206/22206 [==============================] - 27s 1ms/step - loss: 0.0309 - acc: 0.9946 - val_loss: 1.6675 - val_acc: 0.8606\n",
      "Epoch 53/100\n",
      "22206/22206 [==============================] - 27s 1ms/step - loss: 0.0322 - acc: 0.9947 - val_loss: 1.6283 - val_acc: 0.8578\n",
      "Epoch 54/100\n",
      "22206/22206 [==============================] - 27s 1ms/step - loss: 0.0295 - acc: 0.9947 - val_loss: 1.8472 - val_acc: 0.8529\n",
      "Epoch 55/100\n",
      "22206/22206 [==============================] - 29s 1ms/step - loss: 0.0337 - acc: 0.9951 - val_loss: 1.6772 - val_acc: 0.8626\n",
      "Epoch 56/100\n",
      "22206/22206 [==============================] - 28s 1ms/step - loss: 0.0320 - acc: 0.9947 - val_loss: 1.7578 - val_acc: 0.8558\n",
      "Epoch 57/100\n",
      "22206/22206 [==============================] - 28s 1ms/step - loss: 0.0309 - acc: 0.9952 - val_loss: 1.8234 - val_acc: 0.8525\n",
      "Epoch 58/100\n",
      "22206/22206 [==============================] - 29s 1ms/step - loss: 0.0338 - acc: 0.9951 - val_loss: 1.9862 - val_acc: 0.8505\n",
      "Epoch 59/100\n"
     ]
    },
    {
     "name": "stdout",
     "output_type": "stream",
     "text": [
      " 3900/22206 [====>.........................] - ETA: 21s - loss: 0.0144 - acc: 0.9964"
     ]
    },
    {
     "ename": "KeyboardInterrupt",
     "evalue": "",
     "output_type": "error",
     "traceback": [
      "\u001b[0;31m---------------------------------------------------------------------------\u001b[0m",
      "\u001b[0;31mKeyboardInterrupt\u001b[0m                         Traceback (most recent call last)",
      "\u001b[0;32m<ipython-input-51-0409c8a8d63e>\u001b[0m in \u001b[0;36m<module>\u001b[0;34m()\u001b[0m\n\u001b[1;32m      2\u001b[0m               \u001b[0mloss\u001b[0m\u001b[0;34m=\u001b[0m\u001b[0;34m'binary_crossentropy'\u001b[0m\u001b[0;34m,\u001b[0m\u001b[0;34m\u001b[0m\u001b[0m\n\u001b[1;32m      3\u001b[0m               metrics=['accuracy'])\n\u001b[0;32m----> 4\u001b[0;31m \u001b[0mmodel\u001b[0m\u001b[0;34m.\u001b[0m\u001b[0mfit\u001b[0m\u001b[0;34m(\u001b[0m\u001b[0mx\u001b[0m\u001b[0;34m=\u001b[0m\u001b[0mX\u001b[0m\u001b[0;34m,\u001b[0m\u001b[0my\u001b[0m\u001b[0;34m=\u001b[0m\u001b[0mlabels\u001b[0m\u001b[0;34m,\u001b[0m\u001b[0mvalidation_split\u001b[0m\u001b[0;34m=\u001b[0m\u001b[0;36m.1\u001b[0m\u001b[0;34m,\u001b[0m\u001b[0mbatch_size\u001b[0m\u001b[0;34m=\u001b[0m\u001b[0;36m50\u001b[0m\u001b[0;34m,\u001b[0m\u001b[0mepochs\u001b[0m\u001b[0;34m=\u001b[0m\u001b[0;36m100\u001b[0m\u001b[0;34m,\u001b[0m\u001b[0mverbose\u001b[0m\u001b[0;34m=\u001b[0m\u001b[0;36m1\u001b[0m\u001b[0;34m)\u001b[0m\u001b[0;34m\u001b[0m\u001b[0m\n\u001b[0m",
      "\u001b[0;32m/home/arash/anaconda2/lib/python2.7/site-packages/keras/engine/training.pyc\u001b[0m in \u001b[0;36mfit\u001b[0;34m(self, x, y, batch_size, epochs, verbose, callbacks, validation_split, validation_data, shuffle, class_weight, sample_weight, initial_epoch, steps_per_epoch, validation_steps, **kwargs)\u001b[0m\n\u001b[1;32m   1629\u001b[0m                               \u001b[0minitial_epoch\u001b[0m\u001b[0;34m=\u001b[0m\u001b[0minitial_epoch\u001b[0m\u001b[0;34m,\u001b[0m\u001b[0;34m\u001b[0m\u001b[0m\n\u001b[1;32m   1630\u001b[0m                               \u001b[0msteps_per_epoch\u001b[0m\u001b[0;34m=\u001b[0m\u001b[0msteps_per_epoch\u001b[0m\u001b[0;34m,\u001b[0m\u001b[0;34m\u001b[0m\u001b[0m\n\u001b[0;32m-> 1631\u001b[0;31m                               validation_steps=validation_steps)\n\u001b[0m\u001b[1;32m   1632\u001b[0m \u001b[0;34m\u001b[0m\u001b[0m\n\u001b[1;32m   1633\u001b[0m     def evaluate(self, x=None, y=None,\n",
      "\u001b[0;32m/home/arash/anaconda2/lib/python2.7/site-packages/keras/engine/training.pyc\u001b[0m in \u001b[0;36m_fit_loop\u001b[0;34m(self, f, ins, out_labels, batch_size, epochs, verbose, callbacks, val_f, val_ins, shuffle, callback_metrics, initial_epoch, steps_per_epoch, validation_steps)\u001b[0m\n\u001b[1;32m   1211\u001b[0m                     \u001b[0mbatch_logs\u001b[0m\u001b[0;34m[\u001b[0m\u001b[0;34m'size'\u001b[0m\u001b[0;34m]\u001b[0m \u001b[0;34m=\u001b[0m \u001b[0mlen\u001b[0m\u001b[0;34m(\u001b[0m\u001b[0mbatch_ids\u001b[0m\u001b[0;34m)\u001b[0m\u001b[0;34m\u001b[0m\u001b[0m\n\u001b[1;32m   1212\u001b[0m                     \u001b[0mcallbacks\u001b[0m\u001b[0;34m.\u001b[0m\u001b[0mon_batch_begin\u001b[0m\u001b[0;34m(\u001b[0m\u001b[0mbatch_index\u001b[0m\u001b[0;34m,\u001b[0m \u001b[0mbatch_logs\u001b[0m\u001b[0;34m)\u001b[0m\u001b[0;34m\u001b[0m\u001b[0m\n\u001b[0;32m-> 1213\u001b[0;31m                     \u001b[0mouts\u001b[0m \u001b[0;34m=\u001b[0m \u001b[0mf\u001b[0m\u001b[0;34m(\u001b[0m\u001b[0mins_batch\u001b[0m\u001b[0;34m)\u001b[0m\u001b[0;34m\u001b[0m\u001b[0m\n\u001b[0m\u001b[1;32m   1214\u001b[0m                     \u001b[0;32mif\u001b[0m \u001b[0;32mnot\u001b[0m \u001b[0misinstance\u001b[0m\u001b[0;34m(\u001b[0m\u001b[0mouts\u001b[0m\u001b[0;34m,\u001b[0m \u001b[0mlist\u001b[0m\u001b[0;34m)\u001b[0m\u001b[0;34m:\u001b[0m\u001b[0;34m\u001b[0m\u001b[0m\n\u001b[1;32m   1215\u001b[0m                         \u001b[0mouts\u001b[0m \u001b[0;34m=\u001b[0m \u001b[0;34m[\u001b[0m\u001b[0mouts\u001b[0m\u001b[0;34m]\u001b[0m\u001b[0;34m\u001b[0m\u001b[0m\n",
      "\u001b[0;32m/home/arash/anaconda2/lib/python2.7/site-packages/keras/backend/tensorflow_backend.pyc\u001b[0m in \u001b[0;36m__call__\u001b[0;34m(self, inputs)\u001b[0m\n\u001b[1;32m   2330\u001b[0m         updated = session.run(self.outputs + [self.updates_op],\n\u001b[1;32m   2331\u001b[0m                               \u001b[0mfeed_dict\u001b[0m\u001b[0;34m=\u001b[0m\u001b[0mfeed_dict\u001b[0m\u001b[0;34m,\u001b[0m\u001b[0;34m\u001b[0m\u001b[0m\n\u001b[0;32m-> 2332\u001b[0;31m                               **self.session_kwargs)\n\u001b[0m\u001b[1;32m   2333\u001b[0m         \u001b[0;32mreturn\u001b[0m \u001b[0mupdated\u001b[0m\u001b[0;34m[\u001b[0m\u001b[0;34m:\u001b[0m\u001b[0mlen\u001b[0m\u001b[0;34m(\u001b[0m\u001b[0mself\u001b[0m\u001b[0;34m.\u001b[0m\u001b[0moutputs\u001b[0m\u001b[0;34m)\u001b[0m\u001b[0;34m]\u001b[0m\u001b[0;34m\u001b[0m\u001b[0m\n\u001b[1;32m   2334\u001b[0m \u001b[0;34m\u001b[0m\u001b[0m\n",
      "\u001b[0;32m/home/arash/anaconda2/lib/python2.7/site-packages/tensorflow/python/client/session.pyc\u001b[0m in \u001b[0;36mrun\u001b[0;34m(self, fetches, feed_dict, options, run_metadata)\u001b[0m\n\u001b[1;32m    893\u001b[0m     \u001b[0;32mtry\u001b[0m\u001b[0;34m:\u001b[0m\u001b[0;34m\u001b[0m\u001b[0m\n\u001b[1;32m    894\u001b[0m       result = self._run(None, fetches, feed_dict, options_ptr,\n\u001b[0;32m--> 895\u001b[0;31m                          run_metadata_ptr)\n\u001b[0m\u001b[1;32m    896\u001b[0m       \u001b[0;32mif\u001b[0m \u001b[0mrun_metadata\u001b[0m\u001b[0;34m:\u001b[0m\u001b[0;34m\u001b[0m\u001b[0m\n\u001b[1;32m    897\u001b[0m         \u001b[0mproto_data\u001b[0m \u001b[0;34m=\u001b[0m \u001b[0mtf_session\u001b[0m\u001b[0;34m.\u001b[0m\u001b[0mTF_GetBuffer\u001b[0m\u001b[0;34m(\u001b[0m\u001b[0mrun_metadata_ptr\u001b[0m\u001b[0;34m)\u001b[0m\u001b[0;34m\u001b[0m\u001b[0m\n",
      "\u001b[0;32m/home/arash/anaconda2/lib/python2.7/site-packages/tensorflow/python/client/session.pyc\u001b[0m in \u001b[0;36m_run\u001b[0;34m(self, handle, fetches, feed_dict, options, run_metadata)\u001b[0m\n\u001b[1;32m   1126\u001b[0m     \u001b[0;32mif\u001b[0m \u001b[0mfinal_fetches\u001b[0m \u001b[0;32mor\u001b[0m \u001b[0mfinal_targets\u001b[0m \u001b[0;32mor\u001b[0m \u001b[0;34m(\u001b[0m\u001b[0mhandle\u001b[0m \u001b[0;32mand\u001b[0m \u001b[0mfeed_dict_tensor\u001b[0m\u001b[0;34m)\u001b[0m\u001b[0;34m:\u001b[0m\u001b[0;34m\u001b[0m\u001b[0m\n\u001b[1;32m   1127\u001b[0m       results = self._do_run(handle, final_targets, final_fetches,\n\u001b[0;32m-> 1128\u001b[0;31m                              feed_dict_tensor, options, run_metadata)\n\u001b[0m\u001b[1;32m   1129\u001b[0m     \u001b[0;32melse\u001b[0m\u001b[0;34m:\u001b[0m\u001b[0;34m\u001b[0m\u001b[0m\n\u001b[1;32m   1130\u001b[0m       \u001b[0mresults\u001b[0m \u001b[0;34m=\u001b[0m \u001b[0;34m[\u001b[0m\u001b[0;34m]\u001b[0m\u001b[0;34m\u001b[0m\u001b[0m\n",
      "\u001b[0;32m/home/arash/anaconda2/lib/python2.7/site-packages/tensorflow/python/client/session.pyc\u001b[0m in \u001b[0;36m_do_run\u001b[0;34m(self, handle, target_list, fetch_list, feed_dict, options, run_metadata)\u001b[0m\n\u001b[1;32m   1342\u001b[0m     \u001b[0;32mif\u001b[0m \u001b[0mhandle\u001b[0m \u001b[0;32mis\u001b[0m \u001b[0mNone\u001b[0m\u001b[0;34m:\u001b[0m\u001b[0;34m\u001b[0m\u001b[0m\n\u001b[1;32m   1343\u001b[0m       return self._do_call(_run_fn, self._session, feeds, fetches, targets,\n\u001b[0;32m-> 1344\u001b[0;31m                            options, run_metadata)\n\u001b[0m\u001b[1;32m   1345\u001b[0m     \u001b[0;32melse\u001b[0m\u001b[0;34m:\u001b[0m\u001b[0;34m\u001b[0m\u001b[0m\n\u001b[1;32m   1346\u001b[0m       \u001b[0;32mreturn\u001b[0m \u001b[0mself\u001b[0m\u001b[0;34m.\u001b[0m\u001b[0m_do_call\u001b[0m\u001b[0;34m(\u001b[0m\u001b[0m_prun_fn\u001b[0m\u001b[0;34m,\u001b[0m \u001b[0mself\u001b[0m\u001b[0;34m.\u001b[0m\u001b[0m_session\u001b[0m\u001b[0;34m,\u001b[0m \u001b[0mhandle\u001b[0m\u001b[0;34m,\u001b[0m \u001b[0mfeeds\u001b[0m\u001b[0;34m,\u001b[0m \u001b[0mfetches\u001b[0m\u001b[0;34m)\u001b[0m\u001b[0;34m\u001b[0m\u001b[0m\n",
      "\u001b[0;32m/home/arash/anaconda2/lib/python2.7/site-packages/tensorflow/python/client/session.pyc\u001b[0m in \u001b[0;36m_do_call\u001b[0;34m(self, fn, *args)\u001b[0m\n\u001b[1;32m   1348\u001b[0m   \u001b[0;32mdef\u001b[0m \u001b[0m_do_call\u001b[0m\u001b[0;34m(\u001b[0m\u001b[0mself\u001b[0m\u001b[0;34m,\u001b[0m \u001b[0mfn\u001b[0m\u001b[0;34m,\u001b[0m \u001b[0;34m*\u001b[0m\u001b[0margs\u001b[0m\u001b[0;34m)\u001b[0m\u001b[0;34m:\u001b[0m\u001b[0;34m\u001b[0m\u001b[0m\n\u001b[1;32m   1349\u001b[0m     \u001b[0;32mtry\u001b[0m\u001b[0;34m:\u001b[0m\u001b[0;34m\u001b[0m\u001b[0m\n\u001b[0;32m-> 1350\u001b[0;31m       \u001b[0;32mreturn\u001b[0m \u001b[0mfn\u001b[0m\u001b[0;34m(\u001b[0m\u001b[0;34m*\u001b[0m\u001b[0margs\u001b[0m\u001b[0;34m)\u001b[0m\u001b[0;34m\u001b[0m\u001b[0m\n\u001b[0m\u001b[1;32m   1351\u001b[0m     \u001b[0;32mexcept\u001b[0m \u001b[0merrors\u001b[0m\u001b[0;34m.\u001b[0m\u001b[0mOpError\u001b[0m \u001b[0;32mas\u001b[0m \u001b[0me\u001b[0m\u001b[0;34m:\u001b[0m\u001b[0;34m\u001b[0m\u001b[0m\n\u001b[1;32m   1352\u001b[0m       \u001b[0mmessage\u001b[0m \u001b[0;34m=\u001b[0m \u001b[0mcompat\u001b[0m\u001b[0;34m.\u001b[0m\u001b[0mas_text\u001b[0m\u001b[0;34m(\u001b[0m\u001b[0me\u001b[0m\u001b[0;34m.\u001b[0m\u001b[0mmessage\u001b[0m\u001b[0;34m)\u001b[0m\u001b[0;34m\u001b[0m\u001b[0m\n",
      "\u001b[0;32m/home/arash/anaconda2/lib/python2.7/site-packages/tensorflow/python/client/session.pyc\u001b[0m in \u001b[0;36m_run_fn\u001b[0;34m(session, feed_dict, fetch_list, target_list, options, run_metadata)\u001b[0m\n\u001b[1;32m   1327\u001b[0m           return tf_session.TF_Run(session, options,\n\u001b[1;32m   1328\u001b[0m                                    \u001b[0mfeed_dict\u001b[0m\u001b[0;34m,\u001b[0m \u001b[0mfetch_list\u001b[0m\u001b[0;34m,\u001b[0m \u001b[0mtarget_list\u001b[0m\u001b[0;34m,\u001b[0m\u001b[0;34m\u001b[0m\u001b[0m\n\u001b[0;32m-> 1329\u001b[0;31m                                    status, run_metadata)\n\u001b[0m\u001b[1;32m   1330\u001b[0m \u001b[0;34m\u001b[0m\u001b[0m\n\u001b[1;32m   1331\u001b[0m     \u001b[0;32mdef\u001b[0m \u001b[0m_prun_fn\u001b[0m\u001b[0;34m(\u001b[0m\u001b[0msession\u001b[0m\u001b[0;34m,\u001b[0m \u001b[0mhandle\u001b[0m\u001b[0;34m,\u001b[0m \u001b[0mfeed_dict\u001b[0m\u001b[0;34m,\u001b[0m \u001b[0mfetch_list\u001b[0m\u001b[0;34m)\u001b[0m\u001b[0;34m:\u001b[0m\u001b[0;34m\u001b[0m\u001b[0m\n",
      "\u001b[0;31mKeyboardInterrupt\u001b[0m: "
     ]
    }
   ],
   "source": [
    "model.compile(optimizer='rmsprop',\n",
    "              loss='binary_crossentropy',\n",
    "              metrics=['accuracy'])\n",
    "model.fit(x=X,y=labels,validation_split=.1,batch_size=50,epochs=100,verbose=1)"
   ]
  },
  {
   "cell_type": "markdown",
   "metadata": {
    "collapsed": true
   },
   "source": [
    "# Logistic regression model"
   ]
  },
  {
   "cell_type": "code",
   "execution_count": 49,
   "metadata": {},
   "outputs": [
    {
     "name": "stdout",
     "output_type": "stream",
     "text": [
      "Train on 22206 samples, validate on 2468 samples\n",
      "Epoch 1/10\n",
      "22206/22206 [==============================] - 14s 613us/step - loss: 0.4952 - acc: 0.7677 - val_loss: 0.3863 - val_acc: 0.8420\n",
      "Epoch 2/10\n",
      "22206/22206 [==============================] - 13s 589us/step - loss: 0.3299 - acc: 0.8667 - val_loss: 0.3683 - val_acc: 0.8643\n",
      "Epoch 3/10\n",
      "22206/22206 [==============================] - 13s 590us/step - loss: 0.2833 - acc: 0.8869 - val_loss: 0.3772 - val_acc: 0.8570\n",
      "Epoch 4/10\n",
      "22206/22206 [==============================] - 13s 590us/step - loss: 0.2472 - acc: 0.9040 - val_loss: 0.3961 - val_acc: 0.8456\n",
      "Epoch 5/10\n",
      "22206/22206 [==============================] - 13s 591us/step - loss: 0.2135 - acc: 0.9193 - val_loss: 0.5418 - val_acc: 0.7755\n",
      "Epoch 6/10\n",
      "14250/22206 [==================>...........] - ETA: 4s - loss: 0.1824 - acc: 0.9321"
     ]
    },
    {
     "ename": "KeyboardInterrupt",
     "evalue": "",
     "output_type": "error",
     "traceback": [
      "\u001b[0;31m---------------------------------------------------------------------------\u001b[0m",
      "\u001b[0;31mKeyboardInterrupt\u001b[0m                         Traceback (most recent call last)",
      "\u001b[0;32m<ipython-input-49-2ef5cdb794f1>\u001b[0m in \u001b[0;36m<module>\u001b[0;34m()\u001b[0m\n\u001b[1;32m      7\u001b[0m               \u001b[0mloss\u001b[0m\u001b[0;34m=\u001b[0m\u001b[0;34m'binary_crossentropy'\u001b[0m\u001b[0;34m,\u001b[0m\u001b[0;34m\u001b[0m\u001b[0m\n\u001b[1;32m      8\u001b[0m               metrics=['accuracy'])\n\u001b[0;32m----> 9\u001b[0;31m \u001b[0mmodel\u001b[0m\u001b[0;34m.\u001b[0m\u001b[0mfit\u001b[0m\u001b[0;34m(\u001b[0m\u001b[0mx\u001b[0m\u001b[0;34m=\u001b[0m\u001b[0mX\u001b[0m\u001b[0;34m,\u001b[0m\u001b[0my\u001b[0m\u001b[0;34m=\u001b[0m\u001b[0mlabels\u001b[0m\u001b[0;34m,\u001b[0m\u001b[0mvalidation_split\u001b[0m\u001b[0;34m=\u001b[0m\u001b[0;36m.1\u001b[0m\u001b[0;34m,\u001b[0m\u001b[0mbatch_size\u001b[0m\u001b[0;34m=\u001b[0m\u001b[0;36m50\u001b[0m\u001b[0;34m,\u001b[0m\u001b[0mepochs\u001b[0m\u001b[0;34m=\u001b[0m\u001b[0;36m10\u001b[0m\u001b[0;34m,\u001b[0m\u001b[0mverbose\u001b[0m\u001b[0;34m=\u001b[0m\u001b[0;36m1\u001b[0m\u001b[0;34m)\u001b[0m\u001b[0;34m\u001b[0m\u001b[0m\n\u001b[0m",
      "\u001b[0;32m/home/arash/anaconda2/lib/python2.7/site-packages/keras/engine/training.pyc\u001b[0m in \u001b[0;36mfit\u001b[0;34m(self, x, y, batch_size, epochs, verbose, callbacks, validation_split, validation_data, shuffle, class_weight, sample_weight, initial_epoch, steps_per_epoch, validation_steps, **kwargs)\u001b[0m\n\u001b[1;32m   1629\u001b[0m                               \u001b[0minitial_epoch\u001b[0m\u001b[0;34m=\u001b[0m\u001b[0minitial_epoch\u001b[0m\u001b[0;34m,\u001b[0m\u001b[0;34m\u001b[0m\u001b[0m\n\u001b[1;32m   1630\u001b[0m                               \u001b[0msteps_per_epoch\u001b[0m\u001b[0;34m=\u001b[0m\u001b[0msteps_per_epoch\u001b[0m\u001b[0;34m,\u001b[0m\u001b[0;34m\u001b[0m\u001b[0m\n\u001b[0;32m-> 1631\u001b[0;31m                               validation_steps=validation_steps)\n\u001b[0m\u001b[1;32m   1632\u001b[0m \u001b[0;34m\u001b[0m\u001b[0m\n\u001b[1;32m   1633\u001b[0m     def evaluate(self, x=None, y=None,\n",
      "\u001b[0;32m/home/arash/anaconda2/lib/python2.7/site-packages/keras/engine/training.pyc\u001b[0m in \u001b[0;36m_fit_loop\u001b[0;34m(self, f, ins, out_labels, batch_size, epochs, verbose, callbacks, val_f, val_ins, shuffle, callback_metrics, initial_epoch, steps_per_epoch, validation_steps)\u001b[0m\n\u001b[1;32m   1211\u001b[0m                     \u001b[0mbatch_logs\u001b[0m\u001b[0;34m[\u001b[0m\u001b[0;34m'size'\u001b[0m\u001b[0;34m]\u001b[0m \u001b[0;34m=\u001b[0m \u001b[0mlen\u001b[0m\u001b[0;34m(\u001b[0m\u001b[0mbatch_ids\u001b[0m\u001b[0;34m)\u001b[0m\u001b[0;34m\u001b[0m\u001b[0m\n\u001b[1;32m   1212\u001b[0m                     \u001b[0mcallbacks\u001b[0m\u001b[0;34m.\u001b[0m\u001b[0mon_batch_begin\u001b[0m\u001b[0;34m(\u001b[0m\u001b[0mbatch_index\u001b[0m\u001b[0;34m,\u001b[0m \u001b[0mbatch_logs\u001b[0m\u001b[0;34m)\u001b[0m\u001b[0;34m\u001b[0m\u001b[0m\n\u001b[0;32m-> 1213\u001b[0;31m                     \u001b[0mouts\u001b[0m \u001b[0;34m=\u001b[0m \u001b[0mf\u001b[0m\u001b[0;34m(\u001b[0m\u001b[0mins_batch\u001b[0m\u001b[0;34m)\u001b[0m\u001b[0;34m\u001b[0m\u001b[0m\n\u001b[0m\u001b[1;32m   1214\u001b[0m                     \u001b[0;32mif\u001b[0m \u001b[0;32mnot\u001b[0m \u001b[0misinstance\u001b[0m\u001b[0;34m(\u001b[0m\u001b[0mouts\u001b[0m\u001b[0;34m,\u001b[0m \u001b[0mlist\u001b[0m\u001b[0;34m)\u001b[0m\u001b[0;34m:\u001b[0m\u001b[0;34m\u001b[0m\u001b[0m\n\u001b[1;32m   1215\u001b[0m                         \u001b[0mouts\u001b[0m \u001b[0;34m=\u001b[0m \u001b[0;34m[\u001b[0m\u001b[0mouts\u001b[0m\u001b[0;34m]\u001b[0m\u001b[0;34m\u001b[0m\u001b[0m\n",
      "\u001b[0;32m/home/arash/anaconda2/lib/python2.7/site-packages/keras/backend/tensorflow_backend.pyc\u001b[0m in \u001b[0;36m__call__\u001b[0;34m(self, inputs)\u001b[0m\n\u001b[1;32m   2330\u001b[0m         updated = session.run(self.outputs + [self.updates_op],\n\u001b[1;32m   2331\u001b[0m                               \u001b[0mfeed_dict\u001b[0m\u001b[0;34m=\u001b[0m\u001b[0mfeed_dict\u001b[0m\u001b[0;34m,\u001b[0m\u001b[0;34m\u001b[0m\u001b[0m\n\u001b[0;32m-> 2332\u001b[0;31m                               **self.session_kwargs)\n\u001b[0m\u001b[1;32m   2333\u001b[0m         \u001b[0;32mreturn\u001b[0m \u001b[0mupdated\u001b[0m\u001b[0;34m[\u001b[0m\u001b[0;34m:\u001b[0m\u001b[0mlen\u001b[0m\u001b[0;34m(\u001b[0m\u001b[0mself\u001b[0m\u001b[0;34m.\u001b[0m\u001b[0moutputs\u001b[0m\u001b[0;34m)\u001b[0m\u001b[0;34m]\u001b[0m\u001b[0;34m\u001b[0m\u001b[0m\n\u001b[1;32m   2334\u001b[0m \u001b[0;34m\u001b[0m\u001b[0m\n",
      "\u001b[0;32m/home/arash/anaconda2/lib/python2.7/site-packages/tensorflow/python/client/session.pyc\u001b[0m in \u001b[0;36mrun\u001b[0;34m(self, fetches, feed_dict, options, run_metadata)\u001b[0m\n\u001b[1;32m    893\u001b[0m     \u001b[0;32mtry\u001b[0m\u001b[0;34m:\u001b[0m\u001b[0;34m\u001b[0m\u001b[0m\n\u001b[1;32m    894\u001b[0m       result = self._run(None, fetches, feed_dict, options_ptr,\n\u001b[0;32m--> 895\u001b[0;31m                          run_metadata_ptr)\n\u001b[0m\u001b[1;32m    896\u001b[0m       \u001b[0;32mif\u001b[0m \u001b[0mrun_metadata\u001b[0m\u001b[0;34m:\u001b[0m\u001b[0;34m\u001b[0m\u001b[0m\n\u001b[1;32m    897\u001b[0m         \u001b[0mproto_data\u001b[0m \u001b[0;34m=\u001b[0m \u001b[0mtf_session\u001b[0m\u001b[0;34m.\u001b[0m\u001b[0mTF_GetBuffer\u001b[0m\u001b[0;34m(\u001b[0m\u001b[0mrun_metadata_ptr\u001b[0m\u001b[0;34m)\u001b[0m\u001b[0;34m\u001b[0m\u001b[0m\n",
      "\u001b[0;32m/home/arash/anaconda2/lib/python2.7/site-packages/tensorflow/python/client/session.pyc\u001b[0m in \u001b[0;36m_run\u001b[0;34m(self, handle, fetches, feed_dict, options, run_metadata)\u001b[0m\n\u001b[1;32m   1126\u001b[0m     \u001b[0;32mif\u001b[0m \u001b[0mfinal_fetches\u001b[0m \u001b[0;32mor\u001b[0m \u001b[0mfinal_targets\u001b[0m \u001b[0;32mor\u001b[0m \u001b[0;34m(\u001b[0m\u001b[0mhandle\u001b[0m \u001b[0;32mand\u001b[0m \u001b[0mfeed_dict_tensor\u001b[0m\u001b[0;34m)\u001b[0m\u001b[0;34m:\u001b[0m\u001b[0;34m\u001b[0m\u001b[0m\n\u001b[1;32m   1127\u001b[0m       results = self._do_run(handle, final_targets, final_fetches,\n\u001b[0;32m-> 1128\u001b[0;31m                              feed_dict_tensor, options, run_metadata)\n\u001b[0m\u001b[1;32m   1129\u001b[0m     \u001b[0;32melse\u001b[0m\u001b[0;34m:\u001b[0m\u001b[0;34m\u001b[0m\u001b[0m\n\u001b[1;32m   1130\u001b[0m       \u001b[0mresults\u001b[0m \u001b[0;34m=\u001b[0m \u001b[0;34m[\u001b[0m\u001b[0;34m]\u001b[0m\u001b[0;34m\u001b[0m\u001b[0m\n",
      "\u001b[0;32m/home/arash/anaconda2/lib/python2.7/site-packages/tensorflow/python/client/session.pyc\u001b[0m in \u001b[0;36m_do_run\u001b[0;34m(self, handle, target_list, fetch_list, feed_dict, options, run_metadata)\u001b[0m\n\u001b[1;32m   1342\u001b[0m     \u001b[0;32mif\u001b[0m \u001b[0mhandle\u001b[0m \u001b[0;32mis\u001b[0m \u001b[0mNone\u001b[0m\u001b[0;34m:\u001b[0m\u001b[0;34m\u001b[0m\u001b[0m\n\u001b[1;32m   1343\u001b[0m       return self._do_call(_run_fn, self._session, feeds, fetches, targets,\n\u001b[0;32m-> 1344\u001b[0;31m                            options, run_metadata)\n\u001b[0m\u001b[1;32m   1345\u001b[0m     \u001b[0;32melse\u001b[0m\u001b[0;34m:\u001b[0m\u001b[0;34m\u001b[0m\u001b[0m\n\u001b[1;32m   1346\u001b[0m       \u001b[0;32mreturn\u001b[0m \u001b[0mself\u001b[0m\u001b[0;34m.\u001b[0m\u001b[0m_do_call\u001b[0m\u001b[0;34m(\u001b[0m\u001b[0m_prun_fn\u001b[0m\u001b[0;34m,\u001b[0m \u001b[0mself\u001b[0m\u001b[0;34m.\u001b[0m\u001b[0m_session\u001b[0m\u001b[0;34m,\u001b[0m \u001b[0mhandle\u001b[0m\u001b[0;34m,\u001b[0m \u001b[0mfeeds\u001b[0m\u001b[0;34m,\u001b[0m \u001b[0mfetches\u001b[0m\u001b[0;34m)\u001b[0m\u001b[0;34m\u001b[0m\u001b[0m\n",
      "\u001b[0;32m/home/arash/anaconda2/lib/python2.7/site-packages/tensorflow/python/client/session.pyc\u001b[0m in \u001b[0;36m_do_call\u001b[0;34m(self, fn, *args)\u001b[0m\n\u001b[1;32m   1348\u001b[0m   \u001b[0;32mdef\u001b[0m \u001b[0m_do_call\u001b[0m\u001b[0;34m(\u001b[0m\u001b[0mself\u001b[0m\u001b[0;34m,\u001b[0m \u001b[0mfn\u001b[0m\u001b[0;34m,\u001b[0m \u001b[0;34m*\u001b[0m\u001b[0margs\u001b[0m\u001b[0;34m)\u001b[0m\u001b[0;34m:\u001b[0m\u001b[0;34m\u001b[0m\u001b[0m\n\u001b[1;32m   1349\u001b[0m     \u001b[0;32mtry\u001b[0m\u001b[0;34m:\u001b[0m\u001b[0;34m\u001b[0m\u001b[0m\n\u001b[0;32m-> 1350\u001b[0;31m       \u001b[0;32mreturn\u001b[0m \u001b[0mfn\u001b[0m\u001b[0;34m(\u001b[0m\u001b[0;34m*\u001b[0m\u001b[0margs\u001b[0m\u001b[0;34m)\u001b[0m\u001b[0;34m\u001b[0m\u001b[0m\n\u001b[0m\u001b[1;32m   1351\u001b[0m     \u001b[0;32mexcept\u001b[0m \u001b[0merrors\u001b[0m\u001b[0;34m.\u001b[0m\u001b[0mOpError\u001b[0m \u001b[0;32mas\u001b[0m \u001b[0me\u001b[0m\u001b[0;34m:\u001b[0m\u001b[0;34m\u001b[0m\u001b[0m\n\u001b[1;32m   1352\u001b[0m       \u001b[0mmessage\u001b[0m \u001b[0;34m=\u001b[0m \u001b[0mcompat\u001b[0m\u001b[0;34m.\u001b[0m\u001b[0mas_text\u001b[0m\u001b[0;34m(\u001b[0m\u001b[0me\u001b[0m\u001b[0;34m.\u001b[0m\u001b[0mmessage\u001b[0m\u001b[0;34m)\u001b[0m\u001b[0;34m\u001b[0m\u001b[0m\n",
      "\u001b[0;32m/home/arash/anaconda2/lib/python2.7/site-packages/tensorflow/python/client/session.pyc\u001b[0m in \u001b[0;36m_run_fn\u001b[0;34m(session, feed_dict, fetch_list, target_list, options, run_metadata)\u001b[0m\n\u001b[1;32m   1327\u001b[0m           return tf_session.TF_Run(session, options,\n\u001b[1;32m   1328\u001b[0m                                    \u001b[0mfeed_dict\u001b[0m\u001b[0;34m,\u001b[0m \u001b[0mfetch_list\u001b[0m\u001b[0;34m,\u001b[0m \u001b[0mtarget_list\u001b[0m\u001b[0;34m,\u001b[0m\u001b[0;34m\u001b[0m\u001b[0m\n\u001b[0;32m-> 1329\u001b[0;31m                                    status, run_metadata)\n\u001b[0m\u001b[1;32m   1330\u001b[0m \u001b[0;34m\u001b[0m\u001b[0m\n\u001b[1;32m   1331\u001b[0m     \u001b[0;32mdef\u001b[0m \u001b[0m_prun_fn\u001b[0m\u001b[0;34m(\u001b[0m\u001b[0msession\u001b[0m\u001b[0;34m,\u001b[0m \u001b[0mhandle\u001b[0m\u001b[0;34m,\u001b[0m \u001b[0mfeed_dict\u001b[0m\u001b[0;34m,\u001b[0m \u001b[0mfetch_list\u001b[0m\u001b[0;34m)\u001b[0m\u001b[0;34m:\u001b[0m\u001b[0;34m\u001b[0m\u001b[0m\n",
      "\u001b[0;31mKeyboardInterrupt\u001b[0m: "
     ]
    }
   ],
   "source": [
    "inputs = Input(shape=(MAX_SEQ_LEN,))\n",
    "embed1 = Embedding(input_dim=DICT_SIZE,output_dim=50,input_length=MAX_SEQ_LEN)(inputs)\n",
    "features = Flatten()(embed1)\n",
    "out = Dense(1,activation='sigmoid')(features)\n",
    "model = Model(inputs=inputs,outputs=out)\n",
    "model.compile(optimizer='rmsprop',\n",
    "              loss='binary_crossentropy',\n",
    "              metrics=['accuracy'])\n",
    "model.fit(x=X,y=labels,validation_split=.1,batch_size=50,epochs=10,verbose=1)"
   ]
  },
  {
   "cell_type": "markdown",
   "metadata": {
    "collapsed": true
   },
   "source": [
    "So the accuracy of this model for 'toxic' is about 88%."
   ]
  },
  {
   "cell_type": "code",
   "execution_count": 42,
   "metadata": {},
   "outputs": [
    {
     "data": {
      "text/plain": [
       "['toxic', 'severe_toxic', 'obscene', 'threat', 'insult', 'identity_hate']"
      ]
     },
     "execution_count": 42,
     "metadata": {},
     "output_type": "execute_result"
    }
   ],
   "source": [
    "class_names"
   ]
  },
  {
   "cell_type": "code",
   "execution_count": null,
   "metadata": {
    "collapsed": true
   },
   "outputs": [],
   "source": []
  },
  {
   "cell_type": "code",
   "execution_count": null,
   "metadata": {
    "collapsed": true
   },
   "outputs": [],
   "source": []
  },
  {
   "cell_type": "code",
   "execution_count": null,
   "metadata": {
    "collapsed": true
   },
   "outputs": [],
   "source": []
  }
 ],
 "metadata": {
  "kernelspec": {
   "display_name": "Python 2",
   "language": "python",
   "name": "python2"
  },
  "language_info": {
   "codemirror_mode": {
    "name": "ipython",
    "version": 2
   },
   "file_extension": ".py",
   "mimetype": "text/x-python",
   "name": "python",
   "nbconvert_exporter": "python",
   "pygments_lexer": "ipython2",
   "version": "2.7.14"
  }
 },
 "nbformat": 4,
 "nbformat_minor": 2
}
